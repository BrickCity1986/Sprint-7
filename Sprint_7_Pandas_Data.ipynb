{
 "cells": [
  {
   "cell_type": "code",
   "execution_count": 12,
   "metadata": {},
   "outputs": [],
   "source": [
    "import pandas as pd"
   ]
  },
  {
   "cell_type": "code",
   "execution_count": 13,
   "metadata": {},
   "outputs": [],
   "source": [
    "import matplotlib.pyplot as plt"
   ]
  },
  {
   "cell_type": "code",
   "execution_count": 14,
   "metadata": {},
   "outputs": [
    {
     "data": {
      "text/html": [
       "<div>\n",
       "<style scoped>\n",
       "    .dataframe tbody tr th:only-of-type {\n",
       "        vertical-align: middle;\n",
       "    }\n",
       "\n",
       "    .dataframe tbody tr th {\n",
       "        vertical-align: top;\n",
       "    }\n",
       "\n",
       "    .dataframe thead th {\n",
       "        text-align: right;\n",
       "    }\n",
       "</style>\n",
       "<table border=\"1\" class=\"dataframe\">\n",
       "  <thead>\n",
       "    <tr style=\"text-align: right;\">\n",
       "      <th></th>\n",
       "      <th>order_id</th>\n",
       "      <th>user_id</th>\n",
       "      <th>order_number</th>\n",
       "      <th>order_dow</th>\n",
       "      <th>order_hour_of_day</th>\n",
       "      <th>days_since_prior_order</th>\n",
       "    </tr>\n",
       "  </thead>\n",
       "  <tbody>\n",
       "    <tr>\n",
       "      <th>0</th>\n",
       "      <td>1515936</td>\n",
       "      <td>183418</td>\n",
       "      <td>11</td>\n",
       "      <td>6</td>\n",
       "      <td>13</td>\n",
       "      <td>30.0</td>\n",
       "    </tr>\n",
       "    <tr>\n",
       "      <th>1</th>\n",
       "      <td>1690866</td>\n",
       "      <td>163593</td>\n",
       "      <td>5</td>\n",
       "      <td>5</td>\n",
       "      <td>12</td>\n",
       "      <td>9.0</td>\n",
       "    </tr>\n",
       "    <tr>\n",
       "      <th>2</th>\n",
       "      <td>1454967</td>\n",
       "      <td>39980</td>\n",
       "      <td>4</td>\n",
       "      <td>5</td>\n",
       "      <td>19</td>\n",
       "      <td>2.0</td>\n",
       "    </tr>\n",
       "    <tr>\n",
       "      <th>3</th>\n",
       "      <td>1768857</td>\n",
       "      <td>82516</td>\n",
       "      <td>56</td>\n",
       "      <td>0</td>\n",
       "      <td>20</td>\n",
       "      <td>10.0</td>\n",
       "    </tr>\n",
       "    <tr>\n",
       "      <th>4</th>\n",
       "      <td>3007858</td>\n",
       "      <td>196724</td>\n",
       "      <td>2</td>\n",
       "      <td>4</td>\n",
       "      <td>12</td>\n",
       "      <td>17.0</td>\n",
       "    </tr>\n",
       "  </tbody>\n",
       "</table>\n",
       "</div>"
      ],
      "text/plain": [
       "   order_id  user_id  order_number  order_dow  order_hour_of_day  \\\n",
       "0   1515936   183418            11          6                 13   \n",
       "1   1690866   163593             5          5                 12   \n",
       "2   1454967    39980             4          5                 19   \n",
       "3   1768857    82516            56          0                 20   \n",
       "4   3007858   196724             2          4                 12   \n",
       "\n",
       "   days_since_prior_order  \n",
       "0                    30.0  \n",
       "1                     9.0  \n",
       "2                     2.0  \n",
       "3                    10.0  \n",
       "4                    17.0  "
      ]
     },
     "execution_count": 14,
     "metadata": {},
     "output_type": "execute_result"
    }
   ],
   "source": [
    "try:\n",
    "    file_path = r\"C:\\Users\\ngoyi\\OneDrive\\Documents\\Sprint 7 - project\\Dataset\\instacart_orders.csv\"\n",
    "    df_orders = pd.read_csv(file_path, delimiter=';')\n",
    "except:\n",
    "    file_path = \"/datasets/instacart_orders.csv\"\n",
    "    df_orders = pd.read_csv(file_path, delimiter=';')   \n",
    "\n",
    "df_orders.head()"
   ]
  },
  {
   "cell_type": "code",
   "execution_count": 15,
   "metadata": {},
   "outputs": [
    {
     "data": {
      "text/html": [
       "<div>\n",
       "<style scoped>\n",
       "    .dataframe tbody tr th:only-of-type {\n",
       "        vertical-align: middle;\n",
       "    }\n",
       "\n",
       "    .dataframe tbody tr th {\n",
       "        vertical-align: top;\n",
       "    }\n",
       "\n",
       "    .dataframe thead th {\n",
       "        text-align: right;\n",
       "    }\n",
       "</style>\n",
       "<table border=\"1\" class=\"dataframe\">\n",
       "  <thead>\n",
       "    <tr style=\"text-align: right;\">\n",
       "      <th></th>\n",
       "      <th>aisle_id</th>\n",
       "      <th>aisle</th>\n",
       "    </tr>\n",
       "  </thead>\n",
       "  <tbody>\n",
       "    <tr>\n",
       "      <th>0</th>\n",
       "      <td>1</td>\n",
       "      <td>prepared soups salads</td>\n",
       "    </tr>\n",
       "    <tr>\n",
       "      <th>1</th>\n",
       "      <td>2</td>\n",
       "      <td>specialty cheeses</td>\n",
       "    </tr>\n",
       "    <tr>\n",
       "      <th>2</th>\n",
       "      <td>3</td>\n",
       "      <td>energy granola bars</td>\n",
       "    </tr>\n",
       "    <tr>\n",
       "      <th>3</th>\n",
       "      <td>4</td>\n",
       "      <td>instant foods</td>\n",
       "    </tr>\n",
       "    <tr>\n",
       "      <th>4</th>\n",
       "      <td>5</td>\n",
       "      <td>marinades meat preparation</td>\n",
       "    </tr>\n",
       "  </tbody>\n",
       "</table>\n",
       "</div>"
      ],
      "text/plain": [
       "   aisle_id                       aisle\n",
       "0         1       prepared soups salads\n",
       "1         2           specialty cheeses\n",
       "2         3         energy granola bars\n",
       "3         4               instant foods\n",
       "4         5  marinades meat preparation"
      ]
     },
     "execution_count": 15,
     "metadata": {},
     "output_type": "execute_result"
    }
   ],
   "source": [
    "try:\n",
    "    file_path_aisles = r\"C:\\Users\\ngoyi\\OneDrive\\Documents\\Sprint 7 - project\\Dataset\\aisles.csv\"\n",
    "    df_aisles = pd.read_csv(file_path_aisles, delimiter=';')\n",
    "except:\n",
    "    file_path_aisles = \"/datasets/aisles.csv\"\n",
    "    df_aisles = pd.read_csv(file_path_aisles, delimiter=';')   \n",
    "\n",
    "df_aisles.head()"
   ]
  },
  {
   "cell_type": "code",
   "execution_count": 16,
   "metadata": {},
   "outputs": [
    {
     "data": {
      "text/html": [
       "<div>\n",
       "<style scoped>\n",
       "    .dataframe tbody tr th:only-of-type {\n",
       "        vertical-align: middle;\n",
       "    }\n",
       "\n",
       "    .dataframe tbody tr th {\n",
       "        vertical-align: top;\n",
       "    }\n",
       "\n",
       "    .dataframe thead th {\n",
       "        text-align: right;\n",
       "    }\n",
       "</style>\n",
       "<table border=\"1\" class=\"dataframe\">\n",
       "  <thead>\n",
       "    <tr style=\"text-align: right;\">\n",
       "      <th></th>\n",
       "      <th>department_id</th>\n",
       "      <th>department</th>\n",
       "    </tr>\n",
       "  </thead>\n",
       "  <tbody>\n",
       "    <tr>\n",
       "      <th>0</th>\n",
       "      <td>1</td>\n",
       "      <td>frozen</td>\n",
       "    </tr>\n",
       "    <tr>\n",
       "      <th>1</th>\n",
       "      <td>2</td>\n",
       "      <td>other</td>\n",
       "    </tr>\n",
       "    <tr>\n",
       "      <th>2</th>\n",
       "      <td>3</td>\n",
       "      <td>bakery</td>\n",
       "    </tr>\n",
       "    <tr>\n",
       "      <th>3</th>\n",
       "      <td>4</td>\n",
       "      <td>produce</td>\n",
       "    </tr>\n",
       "    <tr>\n",
       "      <th>4</th>\n",
       "      <td>5</td>\n",
       "      <td>alcohol</td>\n",
       "    </tr>\n",
       "  </tbody>\n",
       "</table>\n",
       "</div>"
      ],
      "text/plain": [
       "   department_id department\n",
       "0              1     frozen\n",
       "1              2      other\n",
       "2              3     bakery\n",
       "3              4    produce\n",
       "4              5    alcohol"
      ]
     },
     "execution_count": 16,
     "metadata": {},
     "output_type": "execute_result"
    }
   ],
   "source": [
    "try:\n",
    "    file_path_departments = r\"C:\\Users\\ngoyi\\OneDrive\\Documents\\Sprint 7 - project\\Dataset\\departments.csv\"\n",
    "    df_departments = pd.read_csv(file_path_departments, delimiter=';')\n",
    "except:\n",
    "    file_path_departments = \"/datasets/departments.csv\"\n",
    "    df_departments = pd.read_csv(file_path_departments, delimiter=';')   \n",
    "\n",
    "df_departments.head()"
   ]
  },
  {
   "cell_type": "code",
   "execution_count": 17,
   "metadata": {},
   "outputs": [
    {
     "data": {
      "text/html": [
       "<div>\n",
       "<style scoped>\n",
       "    .dataframe tbody tr th:only-of-type {\n",
       "        vertical-align: middle;\n",
       "    }\n",
       "\n",
       "    .dataframe tbody tr th {\n",
       "        vertical-align: top;\n",
       "    }\n",
       "\n",
       "    .dataframe thead th {\n",
       "        text-align: right;\n",
       "    }\n",
       "</style>\n",
       "<table border=\"1\" class=\"dataframe\">\n",
       "  <thead>\n",
       "    <tr style=\"text-align: right;\">\n",
       "      <th></th>\n",
       "      <th>product_id</th>\n",
       "      <th>product_name</th>\n",
       "      <th>aisle_id</th>\n",
       "      <th>department_id</th>\n",
       "    </tr>\n",
       "  </thead>\n",
       "  <tbody>\n",
       "    <tr>\n",
       "      <th>0</th>\n",
       "      <td>1</td>\n",
       "      <td>Chocolate Sandwich Cookies</td>\n",
       "      <td>61</td>\n",
       "      <td>19</td>\n",
       "    </tr>\n",
       "    <tr>\n",
       "      <th>1</th>\n",
       "      <td>2</td>\n",
       "      <td>All-Seasons Salt</td>\n",
       "      <td>104</td>\n",
       "      <td>13</td>\n",
       "    </tr>\n",
       "    <tr>\n",
       "      <th>2</th>\n",
       "      <td>3</td>\n",
       "      <td>Robust Golden Unsweetened Oolong Tea</td>\n",
       "      <td>94</td>\n",
       "      <td>7</td>\n",
       "    </tr>\n",
       "    <tr>\n",
       "      <th>3</th>\n",
       "      <td>4</td>\n",
       "      <td>Smart Ones Classic Favorites Mini Rigatoni Wit...</td>\n",
       "      <td>38</td>\n",
       "      <td>1</td>\n",
       "    </tr>\n",
       "    <tr>\n",
       "      <th>4</th>\n",
       "      <td>5</td>\n",
       "      <td>Green Chile Anytime Sauce</td>\n",
       "      <td>5</td>\n",
       "      <td>13</td>\n",
       "    </tr>\n",
       "  </tbody>\n",
       "</table>\n",
       "</div>"
      ],
      "text/plain": [
       "   product_id                                       product_name  aisle_id  \\\n",
       "0           1                         Chocolate Sandwich Cookies        61   \n",
       "1           2                                   All-Seasons Salt       104   \n",
       "2           3               Robust Golden Unsweetened Oolong Tea        94   \n",
       "3           4  Smart Ones Classic Favorites Mini Rigatoni Wit...        38   \n",
       "4           5                          Green Chile Anytime Sauce         5   \n",
       "\n",
       "   department_id  \n",
       "0             19  \n",
       "1             13  \n",
       "2              7  \n",
       "3              1  \n",
       "4             13  "
      ]
     },
     "execution_count": 17,
     "metadata": {},
     "output_type": "execute_result"
    }
   ],
   "source": [
    "try:\n",
    "    file_path_products = r\"C:\\Users\\ngoyi\\OneDrive\\Documents\\Sprint 7 - project\\Dataset\\products.csv\"\n",
    "    df_products = pd.read_csv(file_path_products, delimiter=';')\n",
    "except:\n",
    "    file_path_products = \"/datasets/products.csv\"\n",
    "    df_products = pd.read_csv(file_path_products, delimiter=';')   \n",
    "\n",
    "df_products.head()"
   ]
  },
  {
   "cell_type": "code",
   "execution_count": 18,
   "id": "6fc81694",
   "metadata": {},
   "outputs": [
    {
     "name": "stdout",
     "output_type": "stream",
     "text": [
      "<class 'pandas.core.frame.DataFrame'>\n",
      "RangeIndex: 4545007 entries, 0 to 4545006\n",
      "Data columns (total 4 columns):\n",
      " #   Column             Non-Null Count    Dtype  \n",
      "---  ------             --------------    -----  \n",
      " 0   order_id           4545007 non-null  int64  \n",
      " 1   product_id         4545007 non-null  int64  \n",
      " 2   add_to_cart_order  4544171 non-null  float64\n",
      " 3   reordered          4545007 non-null  int64  \n",
      "dtypes: float64(1), int64(3)\n",
      "memory usage: 138.7 MB\n"
     ]
    }
   ],
   "source": [
    "try:\n",
    "    file_path_order_products = r\"C:\\Users\\ngoyi\\OneDrive\\Documents\\Sprint 7 - project\\Dataset\\order_products.csv\"\n",
    "    df_order_products = pd.read_csv(file_path_order_products, delimiter=';')\n",
    "except:\n",
    "    file_path_order_products = \"/datasets/order_products.csv\"\n",
    "    df_order_products = pd.read_csv(file_path_order_products, delimiter=';')   \n",
    "\n",
    "df_order_products.info(show_counts=True)"
   ]
  },
  {
   "cell_type": "markdown",
   "id": "07357848-dc64-4156-9cc3-01ff4365226d",
   "metadata": {},
   "source": [
    "## Find and remove duplicate values (and describe why you make your choices)"
   ]
  },
  {
   "cell_type": "markdown",
   "id": "f179f0a9",
   "metadata": {},
   "source": [
    "### `orders` data frame"
   ]
  },
  {
   "cell_type": "code",
   "execution_count": 19,
   "metadata": {},
   "outputs": [
    {
     "name": "stdout",
     "output_type": "stream",
     "text": [
      "Number of duplicated orders: 15\n"
     ]
    }
   ],
   "source": [
    "# Check for duplicated orders\n",
    "duplicated_orders = df_orders.duplicated()\n",
    "\n",
    "# Print the number of duplicated orders\n",
    "print(f\"Number of duplicated orders: {duplicated_orders.sum()}\")"
   ]
  },
  {
   "cell_type": "code",
   "execution_count": 20,
   "metadata": {},
   "outputs": [
    {
     "name": "stdout",
     "output_type": "stream",
     "text": [
      "Number of orders placed on Wednesday at 2:00 AM: 136\n"
     ]
    }
   ],
   "source": [
    "# Filter for all orders placed on Wednesday at 2:00 AM\n",
    "wednesday_2am_orders = df_orders[(df_orders['order_dow'] == 2) & (df_orders['order_hour_of_day'] == 2)]\n",
    "\n",
    "# Print the number of orders placed on Wednesday at 2:00 AM\n",
    "print(f\"Number of orders placed on Wednesday at 2:00 AM: {len(wednesday_2am_orders)}\")"
   ]
  },
  {
   "cell_type": "code",
   "execution_count": 21,
   "metadata": {},
   "outputs": [
    {
     "name": "stdout",
     "output_type": "stream",
     "text": [
      "Number of rows after removing duplicates: 478952\n"
     ]
    }
   ],
   "source": [
    "# Remove duplicate orders \n",
    "df = df_orders.drop_duplicates()\n",
    "\n",
    "# Print the number of rows in the DataFrame after removing duplicates\n",
    "print(f\"Number of rows after removing duplicates: {len(df)}\")"
   ]
  },
  {
   "cell_type": "code",
   "execution_count": 22,
   "metadata": {},
   "outputs": [
    {
     "name": "stdout",
     "output_type": "stream",
     "text": [
      "Number of duplicated orders: 15\n"
     ]
    }
   ],
   "source": [
    "# Check for duplicated orders \n",
    "duplicated_orders = df_orders.duplicated()\n",
    "\n",
    "# Print the number of duplicated orders\n",
    "print(f\"Number of duplicated orders: {duplicated_orders.sum()}\")"
   ]
  },
  {
   "cell_type": "code",
   "execution_count": 23,
   "metadata": {},
   "outputs": [
    {
     "name": "stdout",
     "output_type": "stream",
     "text": [
      "Number of duplicated order IDs: 15\n"
     ]
    }
   ],
   "source": [
    "# Check for duplicated order IDs \n",
    "duplicated_order_ids = df_orders.duplicated(subset=['order_id'])\n",
    "\n",
    "# Print the number of duplicated order IDs\n",
    "print(f\"Number of duplicated order IDs: {duplicated_order_ids.sum()}\")"
   ]
  },
  {
   "cell_type": "markdown",
   "id": "5e8905ae",
   "metadata": {},
   "source": []
  },
  {
   "cell_type": "markdown",
   "id": "45e6bc46",
   "metadata": {},
   "source": [
    "### `products` data frame"
   ]
  },
  {
   "cell_type": "code",
   "execution_count": 24,
   "metadata": {},
   "outputs": [
    {
     "name": "stdout",
     "output_type": "stream",
     "text": [
      "Number of duplicated rows: 0\n"
     ]
    }
   ],
   "source": [
    "# Check for fully duplicated\n",
    "duplicated_rows = df_products.duplicated()\n",
    "\n",
    "# Print the number of duplicated rows\n",
    "print(f\"Number of duplicated rows: {duplicated_rows.sum()}\")"
   ]
  },
  {
   "cell_type": "code",
   "execution_count": 25,
   "metadata": {},
   "outputs": [
    {
     "name": "stdout",
     "output_type": "stream",
     "text": [
      "Number of duplicated product IDs: 0\n"
     ]
    }
   ],
   "source": [
    "# Check for duplicated product IDs \n",
    "duplicated_product_ids = df_products.duplicated(subset=['product_id'])\n",
    "\n",
    "# Print the number of duplicated product IDs\n",
    "print(f\"Number of duplicated product IDs: {duplicated_product_ids.sum()}\")"
   ]
  },
  {
   "cell_type": "code",
   "execution_count": 26,
   "metadata": {},
   "outputs": [
    {
     "name": "stdout",
     "output_type": "stream",
     "text": [
      "Number of duplicated product names: 1361\n"
     ]
    }
   ],
   "source": [
    "# Check for duplicated product names (convert names to lowercase to compare better)\n",
    "duplicated_product_names = df_products['product_name'].str.lower().duplicated()\n",
    "\n",
    "# Print the number of duplicated product names\n",
    "print(f\"Number of duplicated product names: {duplicated_product_names.sum()}\")"
   ]
  },
  {
   "cell_type": "code",
   "execution_count": 27,
   "metadata": {},
   "outputs": [
    {
     "name": "stdout",
     "output_type": "stream",
     "text": [
      "Number of duplicated product names that aren't missing: 104\n"
     ]
    }
   ],
   "source": [
    "# Check for duplicate product names that aren't missing\n",
    "duplicated_product_names = df_products[df_products['product_name'].notnull()]['product_name'].str.lower().duplicated()\n",
    "\n",
    "# Print the number of duplicated product names\n",
    "print(f\"Number of duplicated product names that aren't missing: {duplicated_product_names.sum()}\")"
   ]
  },
  {
   "cell_type": "markdown",
   "id": "9da8d293",
   "metadata": {},
   "source": []
  },
  {
   "cell_type": "markdown",
   "id": "60f30db1",
   "metadata": {},
   "source": [
    "### `departments` data frame"
   ]
  },
  {
   "cell_type": "code",
   "execution_count": 28,
   "metadata": {},
   "outputs": [
    {
     "name": "stdout",
     "output_type": "stream",
     "text": [
      "Number of duplicated departments: 0\n"
     ]
    }
   ],
   "source": [
    "# Check for duplicated departments\n",
    "duplicated_departments = df_departments.duplicated(subset=['department'])\n",
    "\n",
    "# Print the number of duplicated departments\n",
    "print(f\"Number of duplicated departments: {duplicated_departments.sum()}\")"
   ]
  },
  {
   "cell_type": "code",
   "execution_count": 29,
   "metadata": {},
   "outputs": [
    {
     "name": "stdout",
     "output_type": "stream",
     "text": [
      "Number of fully duplicated rows: 0\n"
     ]
    }
   ],
   "source": [
    "# Check for fully duplicated \n",
    "duplicated_rows = df_departments.duplicated()\n",
    "\n",
    "# Print the number of fully duplicated rows\n",
    "print(f\"Number of fully duplicated rows: {duplicated_rows.sum()}\")"
   ]
  },
  {
   "cell_type": "markdown",
   "id": "bd30d78e",
   "metadata": {},
   "source": []
  },
  {
   "cell_type": "markdown",
   "id": "889349c1",
   "metadata": {},
   "source": [
    "### `aisles` data frame"
   ]
  },
  {
   "cell_type": "code",
   "execution_count": 30,
   "metadata": {},
   "outputs": [
    {
     "name": "stdout",
     "output_type": "stream",
     "text": [
      "Number of fully duplicated rows: 0\n"
     ]
    }
   ],
   "source": [
    "# Check for fully duplicated \n",
    "duplicated_rows = df_aisles.duplicated()\n",
    "\n",
    "# Print the number of fully duplicated rows\n",
    "print(f\"Number of fully duplicated rows: {duplicated_rows.sum()}\")"
   ]
  },
  {
   "cell_type": "code",
   "execution_count": 31,
   "metadata": {},
   "outputs": [
    {
     "name": "stdout",
     "output_type": "stream",
     "text": [
      "Number of duplicated aisles: 0\n"
     ]
    }
   ],
   "source": [
    "# Check for duplicated values in the \"aisle\" column\n",
    "duplicated_aisles = df_aisles.duplicated(subset=['aisle'])\n",
    "\n",
    "# Print the number of duplicated aisles\n",
    "print(f\"Number of duplicated aisles: {duplicated_aisles.sum()}\")"
   ]
  },
  {
   "cell_type": "markdown",
   "id": "ac63826f",
   "metadata": {},
   "source": []
  },
  {
   "cell_type": "markdown",
   "id": "274cd06a",
   "metadata": {},
   "source": [
    "### `order_products` data frame"
   ]
  },
  {
   "cell_type": "code",
   "execution_count": 32,
   "metadata": {},
   "outputs": [
    {
     "name": "stdout",
     "output_type": "stream",
     "text": [
      "Number of fully duplicated rows: 0\n"
     ]
    }
   ],
   "source": [
    "# Check for fully duplicated rows \n",
    "duplicated_rows = df_order_products.duplicated()\n",
    "\n",
    "# Print the number of fully duplicated rows\n",
    "print(f\"Number of fully duplicated rows: {duplicated_rows.sum()}\")"
   ]
  },
  {
   "cell_type": "code",
   "execution_count": 33,
   "metadata": {},
   "outputs": [
    {
     "name": "stdout",
     "output_type": "stream",
     "text": [
      "Number of duplicated order-product combinations: 0\n"
     ]
    }
   ],
   "source": [
    "# Double check for any other tricky duplicates\n",
    "duplicated_order_product_combinations = df_order_products.duplicated(subset=['order_id', 'product_id'])\n",
    "\n",
    "# Print the number of duplicated order-product combinations\n",
    "print(f\"Number of duplicated order-product combinations: {duplicated_order_product_combinations.sum()}\")"
   ]
  },
  {
   "cell_type": "markdown",
   "id": "0b890492",
   "metadata": {},
   "source": []
  },
  {
   "cell_type": "markdown",
   "id": "1e46de76",
   "metadata": {},
   "source": [
    "## Find and remove missing values\n"
   ]
  },
  {
   "cell_type": "markdown",
   "id": "c0aebd78",
   "metadata": {},
   "source": [
    "### `products` data frame"
   ]
  },
  {
   "cell_type": "code",
   "execution_count": 34,
   "metadata": {},
   "outputs": [
    {
     "name": "stdout",
     "output_type": "stream",
     "text": [
      "All missing product names are associated with aisle ID 100: True\n"
     ]
    }
   ],
   "source": [
    "# Filter for rows where the product name is missing\n",
    "missing_product_names = df_products[df_products['product_name'].isnull()]\n",
    "\n",
    "# Are all of the missing product names associated with aisle ID 100?\n",
    "all_aisle_id_100 = missing_product_names['aisle_id'].eq(100).all()\n",
    "\n",
    "# Print the result\n",
    "print(f\"All missing product names are associated with aisle ID 100: {all_aisle_id_100}\")"
   ]
  },
  {
   "cell_type": "code",
   "execution_count": 35,
   "metadata": {},
   "outputs": [
    {
     "name": "stdout",
     "output_type": "stream",
     "text": [
      "All missing product names are associated with department ID 21: True\n"
     ]
    }
   ],
   "source": [
    "# Filter for rows where the product name is missing\n",
    "missing_product_names = df_products[df_products['product_name'].isnull()]\n",
    "\n",
    "# Check if all of these rows have department ID 21\n",
    "all_department_id_21 = missing_product_names['department_id'].eq(21).all()\n",
    "\n",
    "# Print the result\n",
    "print(f\"All missing product names are associated with department ID 21: {all_department_id_21}\")"
   ]
  },
  {
   "cell_type": "code",
   "execution_count": 36,
   "metadata": {},
   "outputs": [
    {
     "name": "stdout",
     "output_type": "stream",
     "text": [
      "0         61\n",
      "1        104\n",
      "2         94\n",
      "3         38\n",
      "4          5\n",
      "        ... \n",
      "49689     64\n",
      "49690    130\n",
      "49691    130\n",
      "49692    127\n",
      "49693     38\n",
      "Name: aisle_id, Length: 49694, dtype: int64\n",
      "0        19\n",
      "1        13\n",
      "2         7\n",
      "3         1\n",
      "4        13\n",
      "         ..\n",
      "49689     7\n",
      "49690    14\n",
      "49691    14\n",
      "49692    11\n",
      "49693     1\n",
      "Name: department_id, Length: 49694, dtype: int64\n"
     ]
    }
   ],
   "source": [
    "# What is this ailse and department?\n",
    "aisle_ids = df_products['aisle_id']\n",
    "print(aisle_ids)\n",
    "\n",
    "# Access the department_id column\n",
    "department_ids = df_products['department_id']\n",
    "print(department_ids)"
   ]
  },
  {
   "cell_type": "code",
   "execution_count": 37,
   "metadata": {},
   "outputs": [
    {
     "name": "stdout",
     "output_type": "stream",
     "text": [
      "Number of missing product names: 0\n"
     ]
    }
   ],
   "source": [
    "# Fill missing product names with 'unknown'\n",
    "df_products['product_name'].fillna('unknown', inplace=True)\n",
    "\n",
    "# Verify the changes by checking if there are still any missing values in the 'product_name' column\n",
    "missing_product_names = df_products['product_name'].isnull().sum()\n",
    "print(f\"Number of missing product names: {missing_product_names}\")"
   ]
  },
  {
   "cell_type": "markdown",
   "id": "fc70e5ad",
   "metadata": {},
   "source": []
  },
  {
   "cell_type": "markdown",
   "id": "7eb45c86",
   "metadata": {},
   "source": [
    "### `orders` data frame"
   ]
  },
  {
   "cell_type": "code",
   "execution_count": 38,
   "metadata": {},
   "outputs": [
    {
     "name": "stdout",
     "output_type": "stream",
     "text": [
      "Number of missing values where it's not a customer's first order: \n",
      "order_id                  0\n",
      "user_id                   0\n",
      "order_number              0\n",
      "order_dow                 0\n",
      "order_hour_of_day         0\n",
      "days_since_prior_order    0\n",
      "dtype: int64\n"
     ]
    }
   ],
   "source": [
    "# Filter for rows where it's not a customer's first order\n",
    "not_first_orders = df[df['order_number'] != 1]\n",
    "\n",
    "# Check if there are any missing values in these rows\n",
    "missing_values_not_first_orders = not_first_orders.isnull().sum()\n",
    "print(f\"Number of missing values where it's not a customer's first order: \\n{missing_values_not_first_orders}\")"
   ]
  },
  {
   "cell_type": "markdown",
   "id": "69dc9ca4",
   "metadata": {},
   "source": [
    "### `order_products` data frame"
   ]
  },
  {
   "cell_type": "code",
   "execution_count": 39,
   "metadata": {},
   "outputs": [
    {
     "name": "stdout",
     "output_type": "stream",
     "text": [
      "Minimum value in the column: 4\n",
      "Maximum value in the column: 49694\n"
     ]
    }
   ],
   "source": [
    "# What are the min and max values in this column?\n",
    "min_value = df_order_products['order_id'].min()\n",
    "max_value = df_order_products['product_id'].max()\n",
    "\n",
    "print(f\"Minimum value in the column: {min_value}\")\n",
    "print(f\"Maximum value in the column: {max_value}\")"
   ]
  },
  {
   "cell_type": "code",
   "execution_count": 40,
   "metadata": {},
   "outputs": [],
   "source": [
    "# Save all order IDs with at least one missing value in 'add_to_cart_order'\n",
    "# Find rows where 'add_to_cart_order' is missing\n",
    "missing_add_to_cart_order = df_order_products[df_order_products['add_to_cart_order'].isnull()]\n",
    "\n",
    "# Select the 'order_id' column\n",
    "order_ids_with_missing_values = missing_add_to_cart_order['order_id']\n",
    "\n",
    "# Save the order IDs\n",
    "order_ids_with_missing_values.to_csv('order_ids_with_missing_values.csv', index=False)"
   ]
  },
  {
   "cell_type": "code",
   "execution_count": 41,
   "metadata": {},
   "outputs": [
    {
     "name": "stdout",
     "output_type": "stream",
     "text": [
      "Do all orders with missing values have more than 64 products? False\n"
     ]
    }
   ],
   "source": [
    "# Do all orders with missing values have more than 64 products?\n",
    "# Find orders with missing values\n",
    "orders_with_missing_values = df_order_products[df_order_products.isnull().any(axis=1)]\n",
    "\n",
    "# Group by 'order_id' and count the number of products in each order\n",
    "product_counts = orders_with_missing_values.groupby('order_id').size()\n",
    "\n",
    "# Check if all counts are greater than 64\n",
    "all_greater_than_64 = (product_counts > 64).all()\n",
    "\n",
    "print(f\"Do all orders with missing values have more than 64 products? {all_greater_than_64}\")"
   ]
  },
  {
   "cell_type": "code",
   "execution_count": 42,
   "metadata": {},
   "outputs": [],
   "source": [
    "# Replace missing values with 999 and convert column to integer type\n",
    "df_order_products['add_to_cart_order'] = df_order_products['add_to_cart_order'].fillna(999).astype(int)"
   ]
  },
  {
   "cell_type": "markdown",
   "id": "fea4bcc7",
   "metadata": {},
   "source": []
  },
  {
   "cell_type": "markdown",
   "id": "turkish-kidney",
   "metadata": {},
   "source": [
    "# [A] Easy (must complete all to pass)"
   ]
  },
  {
   "cell_type": "markdown",
   "id": "short-capability",
   "metadata": {},
   "source": [
    "### [A1] Verify that the `'order_hour_of_day'` and `'order_dow'` values in the `orders` tables are sensible (i.e. `'order_hour_of_day'` ranges from 0 to 23 and `'order_dow'` ranges from 0 to 6)"
   ]
  },
  {
   "cell_type": "code",
   "execution_count": 43,
   "id": "accessory-malaysia",
   "metadata": {},
   "outputs": [
    {
     "name": "stdout",
     "output_type": "stream",
     "text": [
      "Are 'order_hour_of_day' values sensible? True\n",
      "Are 'order_dow' values sensible? True\n"
     ]
    }
   ],
   "source": [
    "# Find the minimum and maximum values in the 'order_hour_of_day' column\n",
    "min_hour = df_orders['order_hour_of_day'].min()\n",
    "max_hour = df_orders['order_hour_of_day'].max()\n",
    "\n",
    "# Find the minimum and maximum values in the 'order_dow' column\n",
    "min_dow = df_orders['order_dow'].min()\n",
    "max_dow = df_orders['order_dow'].max()\n",
    "\n",
    "# Check if the values are sensible\n",
    "is_hour_sensible = 0 <= min_hour <= 23 and 0 <= max_hour <= 23\n",
    "is_dow_sensible = 0 <= min_dow <= 6 and 0 <= max_dow <= 6\n",
    "\n",
    "print(f\"Are 'order_hour_of_day' values sensible? {is_hour_sensible}\")\n",
    "print(f\"Are 'order_dow' values sensible? {is_dow_sensible}\")"
   ]
  },
  {
   "cell_type": "markdown",
   "id": "a6743a70",
   "metadata": {},
   "source": [
    "### [A2] What time of day do people shop for groceries?"
   ]
  },
  {
   "cell_type": "code",
   "execution_count": 44,
   "id": "a36cca27",
   "metadata": {},
   "outputs": [
    {
     "name": "stdout",
     "output_type": "stream",
     "text": [
      "0      3180\n",
      "1      1763\n",
      "2      1004\n",
      "3       770\n",
      "4       765\n",
      "5      1371\n",
      "6      4215\n",
      "7     13043\n",
      "8     25024\n",
      "9     35896\n",
      "10    40578\n",
      "11    40032\n",
      "12    38034\n",
      "13    39007\n",
      "14    39631\n",
      "15    39789\n",
      "16    38112\n",
      "17    31930\n",
      "18    25510\n",
      "19    19547\n",
      "20    14624\n",
      "21    11019\n",
      "22     8512\n",
      "23     5611\n",
      "Name: order_hour_of_day, dtype: int64\n"
     ]
    }
   ],
   "source": [
    "# Group the orders by the 'order_hour_of_day' column and count the number of orders for each hour\n",
    "orders_by_hour = df_orders['order_hour_of_day'].value_counts().sort_index()\n",
    "\n",
    "# Print the number of orders for each hour\n",
    "print(orders_by_hour)"
   ]
  },
  {
   "cell_type": "markdown",
   "id": "11270eed",
   "metadata": {},
   "source": []
  },
  {
   "cell_type": "markdown",
   "id": "documented-command",
   "metadata": {},
   "source": [
    "### [A3] What day of the week do people shop for groceries?"
   ]
  },
  {
   "cell_type": "code",
   "execution_count": 45,
   "id": "chief-digit",
   "metadata": {},
   "outputs": [
    {
     "name": "stdout",
     "output_type": "stream",
     "text": [
      "0    84090\n",
      "1    82185\n",
      "2    65833\n",
      "3    60912\n",
      "4    59810\n",
      "5    63488\n",
      "6    62649\n",
      "Name: order_dow, dtype: int64\n"
     ]
    }
   ],
   "source": [
    "# Group the orders by the 'order_dow' column and count the number of orders for each day\n",
    "orders_by_day = df_orders['order_dow'].value_counts().sort_index()\n",
    "\n",
    "# Print the number of orders for each day\n",
    "print(orders_by_day)"
   ]
  },
  {
   "cell_type": "markdown",
   "id": "dominant-lightning",
   "metadata": {},
   "source": []
  },
  {
   "cell_type": "markdown",
   "id": "cutting-concert",
   "metadata": {},
   "source": [
    "### [A4] How long do people wait until placing another order?"
   ]
  },
  {
   "cell_type": "code",
   "execution_count": 46,
   "id": "c231f523",
   "metadata": {},
   "outputs": [],
   "source": [
    "# Calculate the average of the 'days_since_prior_order' column\n",
    "average_wait_time = df_orders['days_since_prior_order'].mean()\n"
   ]
  },
  {
   "cell_type": "markdown",
   "id": "discrete-vertex",
   "metadata": {},
   "source": []
  },
  {
   "cell_type": "code",
   "execution_count": 47,
   "id": "exciting-fantasy",
   "metadata": {},
   "outputs": [
    {
     "name": "stdout",
     "output_type": "stream",
     "text": [
      "Average wait time until placing another order: 11.101750979677794 days\n"
     ]
    }
   ],
   "source": [
    "# Print the average wait time\n",
    "print(f\"Average wait time until placing another order: {average_wait_time} days\")"
   ]
  },
  {
   "cell_type": "markdown",
   "id": "8d926614",
   "metadata": {},
   "source": []
  },
  {
   "cell_type": "markdown",
   "id": "tight-staff",
   "metadata": {},
   "source": [
    "# [B] Medium (must complete all to pass)"
   ]
  },
  {
   "cell_type": "markdown",
   "id": "packed-classic",
   "metadata": {},
   "source": [
    "### [B1] Is there a difference in `'order_hour_of_day'` distributions on Wednesdays and Saturdays? Plot the histograms for both days and describe the differences that you see."
   ]
  },
  {
   "cell_type": "code",
   "execution_count": 48,
   "id": "d89b8403",
   "metadata": {},
   "outputs": [],
   "source": [
    "# Filter orders on Wednesday\n",
    "orders_wednesday = df_orders[df_orders['order_dow'] == 3]['order_hour_of_day']\n"
   ]
  },
  {
   "cell_type": "code",
   "execution_count": 49,
   "id": "94e54e8a",
   "metadata": {},
   "outputs": [],
   "source": [
    "# Filter orders on Saturday\n",
    "orders_saturday = df_orders[df_orders['order_dow'] == 6]['order_hour_of_day']\n"
   ]
  },
  {
   "cell_type": "code",
   "execution_count": 50,
   "id": "797c90a8",
   "metadata": {},
   "outputs": [
    {
     "data": {
      "text/plain": [
       "<matplotlib.legend.Legend at 0x183c3c6b290>"
      ]
     },
     "execution_count": 50,
     "metadata": {},
     "output_type": "execute_result"
    },
    {
     "data": {
      "image/png": "[encoded data removed]",
      "text/plain": [
       "<Figure size 1200x600 with 1 Axes>"
      ]
     },
     "metadata": {},
     "output_type": "display_data"
    }
   ],
   "source": [
    "# Plot the histograms\n",
    "plt.figure(figsize=(12, 6))\n",
    "\n",
    "plt.hist(orders_wednesday, bins=24, alpha=0.5, label='Wednesday')\n",
    "plt.hist(orders_saturday, bins=24, alpha=0.5, label='Saturday')\n",
    "\n",
    "plt.xlabel('Hour of Day')\n",
    "plt.ylabel('Number of Orders')\n",
    "plt.title('Order Hour of Day Distributions on Wednesdays and Saturdays')\n",
    "plt.legend(loc='upper right')"
   ]
  },
  {
   "cell_type": "code",
   "execution_count": 51,
   "id": "35bcea30",
   "metadata": {},
   "outputs": [],
   "source": [
    "plt.show()"
   ]
  },
  {
   "cell_type": "markdown",
   "id": "charitable-congo",
   "metadata": {},
   "source": []
  },
  {
   "cell_type": "markdown",
   "id": "e3891143",
   "metadata": {},
   "source": [
    "### [B2] What's the distribution for the number of orders per customer?"
   ]
  },
  {
   "cell_type": "code",
   "execution_count": 52,
   "id": "d8c26c23",
   "metadata": {},
   "outputs": [],
   "source": [
    "# Group the orders by the 'user_id' column and count the number of orders for each user\n",
    "orders_per_user = df_orders['user_id'].value_counts()"
   ]
  },
  {
   "cell_type": "code",
   "execution_count": 53,
   "id": "00e69a66",
   "metadata": {},
   "outputs": [
    {
     "name": "stdout",
     "output_type": "stream",
     "text": [
      "count    157437.000000\n",
      "mean          3.042277\n",
      "std           2.746990\n",
      "min           1.000000\n",
      "25%           1.000000\n",
      "50%           2.000000\n",
      "75%           4.000000\n",
      "max          28.000000\n",
      "Name: user_id, dtype: float64\n"
     ]
    }
   ],
   "source": [
    "# Print the distribution for the number of orders per customer\n",
    "print(orders_per_user.describe())"
   ]
  },
  {
   "cell_type": "markdown",
   "id": "d2eff7d5",
   "metadata": {},
   "source": []
  },
  {
   "cell_type": "markdown",
   "id": "54a0319c",
   "metadata": {},
   "source": [
    "### [B3] What are the top 20 popular products (display their id and name)?"
   ]
  },
  {
   "cell_type": "code",
   "execution_count": 54,
   "id": "exterior-arizona",
   "metadata": {
    "scrolled": true
   },
   "outputs": [],
   "source": [
    "# Count the number of orders for each product\n",
    "product_counts = df_order_products['product_id'].value_counts()"
   ]
  },
  {
   "cell_type": "code",
   "execution_count": 55,
   "id": "universal-facial",
   "metadata": {},
   "outputs": [],
   "source": [
    "# Get the top 20 product IDs\n",
    "top_product_ids = product_counts.head(20).index\n",
    "\n",
    "# Get the names of the top 20 products\n",
    "top_products = df_products[df_products['product_id'].isin(top_product_ids)]"
   ]
  },
  {
   "cell_type": "code",
   "execution_count": 56,
   "id": "bbcdd20b",
   "metadata": {},
   "outputs": [
    {
     "name": "stdout",
     "output_type": "stream",
     "text": [
      "       product_id              product_name  aisle_id  department_id\n",
      "5875         5876             Organic Lemon        24              4\n",
      "8276         8277  Apple Honeycrisp Organic        24              4\n",
      "13175       13176    Bag of Organic Bananas        24              4\n",
      "16796       16797              Strawberries        24              4\n",
      "21136       21137      Organic Strawberries        24              4\n",
      "21902       21903      Organic Baby Spinach       123              4\n",
      "22934       22935      Organic Yellow Onion        83              4\n",
      "24851       24852                    Banana        24              4\n",
      "24963       24964            Organic Garlic        83              4\n",
      "26208       26209                     Limes        24              4\n",
      "27844       27845        Organic Whole Milk        84             16\n",
      "27965       27966       Organic Raspberries       123              4\n",
      "28203       28204        Organic Fuji Apple        24              4\n",
      "39274       39275       Organic Blueberries       123              4\n",
      "40705       40706    Organic Grape Tomatoes       123              4\n",
      "45006       45007          Organic Zucchini        83              4\n",
      "47208       47209      Organic Hass Avocado        24              4\n",
      "47625       47626               Large Lemon        24              4\n",
      "47765       47766           Organic Avocado        24              4\n",
      "49682       49683            Cucumber Kirby        83              4\n"
     ]
    }
   ],
   "source": [
    "# Print the top 20 products\n",
    "print(top_products)"
   ]
  },
  {
   "cell_type": "markdown",
   "id": "7df00f47",
   "metadata": {},
   "source": []
  },
  {
   "cell_type": "markdown",
   "id": "gross-theme",
   "metadata": {},
   "source": [
    "# [C] Hard (must complete at least two to pass)"
   ]
  },
  {
   "cell_type": "markdown",
   "id": "romantic-deposit",
   "metadata": {},
   "source": [
    "### [C1] How many items do people typically buy in one order? What does the distribution look like?"
   ]
  },
  {
   "cell_type": "code",
   "execution_count": 57,
   "id": "virtual-punch",
   "metadata": {},
   "outputs": [],
   "source": [
    "# Group the order items by 'order_id' and count the number of items in each order\n",
    "items_per_order = df_order_products.groupby('order_id').size()"
   ]
  },
  {
   "cell_type": "code",
   "execution_count": 58,
   "id": "sensitive-breathing",
   "metadata": {},
   "outputs": [
    {
     "name": "stdout",
     "output_type": "stream",
     "text": [
      "Average number of items per order: 10.098983215049127\n"
     ]
    }
   ],
   "source": [
    "# Print the average number of items per order\n",
    "print(f\"Average number of items per order: {items_per_order.mean()}\")"
   ]
  },
  {
   "cell_type": "code",
   "execution_count": 59,
   "id": "completed-frank",
   "metadata": {},
   "outputs": [
    {
     "data": {
      "image/png": "[encoded data removed]",
      "text/plain": [
       "<Figure size 640x480 with 1 Axes>"
      ]
     },
     "metadata": {},
     "output_type": "display_data"
    }
   ],
   "source": [
    "# Plot the distribution\n",
    "items_per_order.hist(bins=30)\n",
    "plt.xlabel('Number of Items')\n",
    "plt.ylabel('Number of Orders')\n",
    "plt.title('Distribution of Number of Items per Order')\n",
    "plt.show()"
   ]
  },
  {
   "cell_type": "markdown",
   "id": "designed-mortality",
   "metadata": {},
   "source": []
  },
  {
   "cell_type": "markdown",
   "id": "5e6b5537",
   "metadata": {},
   "source": [
    "### [C2] What are the top 20 items that are reordered most frequently (display their names and product IDs)?"
   ]
  },
  {
   "cell_type": "code",
   "execution_count": 60,
   "id": "9374e55a",
   "metadata": {},
   "outputs": [],
   "source": [
    "# Filter the orders for reorders\n",
    "reorders = df_order_products[df_order_products['reordered'] == 1]"
   ]
  },
  {
   "cell_type": "code",
   "execution_count": 61,
   "id": "possible-change",
   "metadata": {
    "scrolled": true
   },
   "outputs": [],
   "source": [
    "# Count the number of reorders for each product\n",
    "reorder_counts = reorders['product_id'].value_counts()"
   ]
  },
  {
   "cell_type": "code",
   "execution_count": 62,
   "id": "professional-surfing",
   "metadata": {
    "scrolled": true
   },
   "outputs": [],
   "source": [
    "# Get the top 20 product IDs\n",
    "top_reorder_ids = reorder_counts.head(20).index\n",
    "\n",
    "# Get the names of the top 20 products\n",
    "top_reorders = df_products[df_products['product_id'].isin(top_reorder_ids)]"
   ]
  },
  {
   "cell_type": "code",
   "execution_count": 63,
   "id": "48dd3658",
   "metadata": {},
   "outputs": [
    {
     "name": "stdout",
     "output_type": "stream",
     "text": [
      "       product_id              product_name  aisle_id  department_id\n",
      "5875         5876             Organic Lemon        24              4\n",
      "8276         8277  Apple Honeycrisp Organic        24              4\n",
      "13175       13176    Bag of Organic Bananas        24              4\n",
      "16796       16797              Strawberries        24              4\n",
      "21136       21137      Organic Strawberries        24              4\n",
      "21902       21903      Organic Baby Spinach       123              4\n",
      "22934       22935      Organic Yellow Onion        83              4\n",
      "24851       24852                    Banana        24              4\n",
      "24963       24964            Organic Garlic        83              4\n",
      "26208       26209                     Limes        24              4\n",
      "27844       27845        Organic Whole Milk        84             16\n",
      "27965       27966       Organic Raspberries       123              4\n",
      "28203       28204        Organic Fuji Apple        24              4\n",
      "39274       39275       Organic Blueberries       123              4\n",
      "45006       45007          Organic Zucchini        83              4\n",
      "47208       47209      Organic Hass Avocado        24              4\n",
      "47625       47626               Large Lemon        24              4\n",
      "47765       47766           Organic Avocado        24              4\n",
      "49234       49235       Organic Half & Half        53             16\n",
      "49682       49683            Cucumber Kirby        83              4\n"
     ]
    }
   ],
   "source": [
    "# Print the top 20 products\n",
    "print(top_reorders)"
   ]
  },
  {
   "cell_type": "markdown",
   "id": "80e70c74",
   "metadata": {},
   "source": []
  },
  {
   "cell_type": "markdown",
   "id": "9d312b14",
   "metadata": {},
   "source": [
    "### [C3] For each product, what proportion of its orders are reorders?"
   ]
  },
  {
   "cell_type": "code",
   "execution_count": 64,
   "id": "8ae9f4b1",
   "metadata": {},
   "outputs": [],
   "source": [
    "# Count the total number of orders for each product\n",
    "total_orders = df_order_products['product_id'].value_counts()"
   ]
  },
  {
   "cell_type": "code",
   "execution_count": 65,
   "id": "103e7fe1",
   "metadata": {},
   "outputs": [],
   "source": [
    "# Count the number of reorders for each product\n",
    "reorders = df_order_products[df_order_products['reordered'] == 1]\n",
    "reorder_counts = reorders['product_id'].value_counts()"
   ]
  },
  {
   "cell_type": "code",
   "execution_count": 66,
   "id": "social-individual",
   "metadata": {},
   "outputs": [],
   "source": [
    "# Calculate the proportion of reorders for each product\n",
    "reorder_proportions = reorder_counts / total_orders"
   ]
  },
  {
   "cell_type": "code",
   "execution_count": 67,
   "metadata": {},
   "outputs": [
    {
     "name": "stdout",
     "output_type": "stream",
     "text": [
      "1        0.564286\n",
      "2             NaN\n",
      "3        0.738095\n",
      "4        0.510204\n",
      "7        0.500000\n",
      "           ...   \n",
      "49690    0.800000\n",
      "49691    0.430556\n",
      "49692    0.416667\n",
      "49693    0.440000\n",
      "49694    0.333333\n",
      "Name: product_id, Length: 45573, dtype: float64\n"
     ]
    }
   ],
   "source": [
    "# Print the proportion of reorders for each product\n",
    "print(reorder_proportions)"
   ]
  },
  {
   "cell_type": "markdown",
   "id": "subject-boxing",
   "metadata": {},
   "source": [
    "### [C4] For each customer, what proportion of their products ordered are reorders?"
   ]
  },
  {
   "cell_type": "code",
   "execution_count": null,
   "id": "medical-couple",
   "metadata": {
    "scrolled": true
   },
   "outputs": [],
   "source": []
  },
  {
   "cell_type": "code",
   "execution_count": null,
   "id": "8892e4b4",
   "metadata": {},
   "outputs": [],
   "source": []
  },
  {
   "cell_type": "markdown",
   "id": "92d35137",
   "metadata": {},
   "source": [
    "### [C5] What are the top 20 items that people put in their carts first? "
   ]
  },
  {
   "cell_type": "code",
   "execution_count": 68,
   "id": "0ae57274",
   "metadata": {
    "scrolled": true
   },
   "outputs": [],
   "source": [
    "# Filter the orders for the first items added to the cart\n",
    "first_items = df_order_products[df_order_products['add_to_cart_order'] == 1]"
   ]
  },
  {
   "cell_type": "code",
   "execution_count": 69,
   "id": "forty-netherlands",
   "metadata": {
    "scrolled": true
   },
   "outputs": [],
   "source": [
    "# Count the number of times each product was first\n",
    "first_item_counts = first_items['product_id'].value_counts()"
   ]
  },
  {
   "cell_type": "code",
   "execution_count": 70,
   "id": "08e41ec2",
   "metadata": {},
   "outputs": [],
   "source": [
    "# Get the top 20 product IDs\n",
    "top_first_item_ids = first_item_counts.head(20).index"
   ]
  },
  {
   "cell_type": "code",
   "execution_count": 71,
   "metadata": {},
   "outputs": [],
   "source": [
    "# Get the names of the top 20 products\n",
    "top_first_items = df_products[df_products['product_id'].isin(top_first_item_ids)]"
   ]
  },
  {
   "cell_type": "markdown",
   "id": "28ce9872",
   "metadata": {},
   "source": []
  },
  {
   "cell_type": "code",
   "execution_count": 72,
   "id": "f4a2af09",
   "metadata": {},
   "outputs": [
    {
     "name": "stdout",
     "output_type": "stream",
     "text": [
      "       product_id                 product_name  aisle_id  department_id\n",
      "195           196                         Soda        77              7\n",
      "5784         5785  Organic Reduced Fat 2% Milk        84             16\n",
      "12340       12341                Hass Avocados        32              4\n",
      "13175       13176       Bag of Organic Bananas        24              4\n",
      "16796       16797                 Strawberries        24              4\n",
      "19659       19660                 Spring Water       115              7\n",
      "21136       21137         Organic Strawberries        24              4\n",
      "21902       21903         Organic Baby Spinach       123              4\n",
      "24851       24852                       Banana        24              4\n",
      "26208       26209                        Limes        24              4\n",
      "27085       27086                  Half & Half        53             16\n",
      "27844       27845           Organic Whole Milk        84             16\n",
      "27965       27966          Organic Raspberries       123              4\n",
      "38688       38689     Organic Reduced Fat Milk        84             16\n",
      "43351       43352                  Raspberries        32              4\n",
      "44631       44632   Sparkling Water Grapefruit       115              7\n",
      "47208       47209         Organic Hass Avocado        24              4\n",
      "47625       47626                  Large Lemon        24              4\n",
      "47765       47766              Organic Avocado        24              4\n",
      "49234       49235          Organic Half & Half        53             16\n"
     ]
    }
   ],
   "source": [
    "# Print the top 20 products\n",
    "print(top_first_items)"
   ]
  }
 ],
 "metadata": {
  "kernelspec": {
   "display_name": "Python 3 (ipykernel)",
   "language": "python",
   "name": "python3"
  },
  "language_info": {
   "codemirror_mode": {
    "name": "ipython",
    "version": 3
   },
   "file_extension": ".py",
   "mimetype": "text/x-python",
   "name": "python",
   "nbconvert_exporter": "python",
   "pygments_lexer": "ipython3",
   "version": "3.11.4"
  },
  "toc": {
   "base_numbering": 1,
   "nav_menu": {},
   "number_sections": true,
   "sideBar": true,
   "skip_h1_title": true,
   "title_cell": "Table of Contents",
   "title_sidebar": "Contents",
   "toc_cell": false,
   "toc_position": {},
   "toc_section_display": true,
   "toc_window_display": false
  },
  "vscode": {
   "interpreter": {
    "hash": "01a7be9ec63e704a62cefc5fe7a4756944464ee731be31632bdf42a4cb4688cf"
   }
  }
 },
 "nbformat": 4,
 "nbformat_minor": 5
}
